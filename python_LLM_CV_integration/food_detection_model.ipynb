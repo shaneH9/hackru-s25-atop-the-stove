{
 "cells": [
  {
   "cell_type": "code",
   "execution_count": 17,
   "metadata": {},
   "outputs": [],
   "source": [
    "# dependencies: tensorflow, numpy, opencv-python, matplotlib\n",
    "import tensorflow as tf\n",
    "from tensorflow.keras import layers\n",
    "from tensorflow.keras.preprocessing.image import ImageDataGenerator\n",
    "from tensorflow.keras.applications import MobileNetV2\n",
    "\n",
    "import numpy as np\n",
    "import os\n",
    "import cv2\n",
    "import matplotlib.pyplot as plt"
   ]
  },
  {
   "cell_type": "code",
   "execution_count": 18,
   "metadata": {},
   "outputs": [
    {
     "name": "stdout",
     "output_type": "stream",
     "text": [
      "/Users/gokulelangovan/Downloads/hack_ru_2025/hackru-s25-atop-the-stove/python_LLM_CV_integration\n"
     ]
    }
   ],
   "source": [
    "print(os.getcwd())"
   ]
  },
  {
   "cell_type": "code",
   "execution_count": 19,
   "metadata": {},
   "outputs": [],
   "source": [
    "train_datagen = ImageDataGenerator(\n",
    "    rescale = 1./255, # scales the image pixel values to be between 0 and 1\n",
    "    zoom_range = 0.2, # random zoom by 20%\n",
    "    shear_range = 0.2, # distortion along one axis by up to 20%\n",
    "    width_shift_range = 0.2, # left or right shift by 20%\n",
    "    height_shift_range = 0.2, # up or down shift by 20%\n",
    "    rotation_range = 25, # rotation +- 25 degrees\n",
    "    horizontal_flip = True, # flips img horizontally 50% of the time\n",
    "    fill_mode = 'nearest' # fill missing pixels with the nearest pixel\n",
    ")\n",
    "# the purpose of these alternations are to make the model more robust to different types of images\n",
    "\n",
    "valid_datagen = ImageDataGenerator(rescale=1./255)\n",
    "# scale the validation images to be between 0 and 1, no other augmentations for validation data\n",
    "\n",
    "test_datagen = ImageDataGenerator(rescale=1./255)\n",
    "# scale the validation images to be between 0 and 1, no other augmentations for test data"
   ]
  },
  {
   "cell_type": "code",
   "execution_count": 20,
   "metadata": {},
   "outputs": [
    {
     "name": "stdout",
     "output_type": "stream",
     "text": [
      "Found 9866 images belonging to 11 classes.\n",
      "Found 3430 images belonging to 11 classes.\n",
      "Found 3347 images belonging to 11 classes.\n"
     ]
    }
   ],
   "source": [
    "# load the data from the directories\n",
    "# target size the typical size expected for CNN\n",
    "# batch images in groups of 32\n",
    "# there are 11 classes, i.e. types in the dataset\n",
    "# use shuffle to randomize image order for training\n",
    "\n",
    "train_dataset = train_datagen.flow_from_directory(\n",
    "    './training',\n",
    "    target_size = (224, 224),\n",
    "    batch_size = 32,\n",
    "    class_mode = 'categorical',\n",
    "    shuffle = True,\n",
    ") \n",
    "\n",
    "valid_dataset = valid_datagen.flow_from_directory(\n",
    "    './validation',\n",
    "    target_size = (224, 224),\n",
    "    batch_size = 32,\n",
    "    class_mode = 'categorical',\n",
    ") \n",
    "\n",
    "test_dataset = test_datagen.flow_from_directory(\n",
    "    './evaluation',\n",
    "    target_size = (224, 224),\n",
    "    batch_size = 32,\n",
    "    class_mode = 'categorical',\n",
    ")"
   ]
  },
  {
   "cell_type": "code",
   "execution_count": 21,
   "metadata": {},
   "outputs": [
    {
     "name": "stdout",
     "output_type": "stream",
     "text": [
      "{'Bread': 0, 'Dairy product': 1, 'Dessert': 2, 'Egg': 3, 'Fried food': 4, 'Meat': 5, 'Noodles-Pasta': 6, 'Rice': 7, 'Seafood': 8, 'Soup': 9, 'Vegetable-Fruit': 10}\n"
     ]
    }
   ],
   "source": [
    "# confirm class order\n",
    "print(train_dataset.class_indices)"
   ]
  },
  {
   "cell_type": "code",
   "execution_count": null,
   "metadata": {},
   "outputs": [],
   "source": [
    "# create the model, using MobileNetV2 as the base model, removes layers of classification to create custom layers, fits to ccorrect image size\n",
    "base_model = MobileNetV2(weights='imagenet', include_top=False, input_shape=(224, 224, 3))\n",
    "# weights are not altered in training, we rather add custom layers to the model as we train\n",
    "base_model.trainable = False\n",
    "\n",
    "# ceate classification ustom layers\n",
    "x = layers.GlobalAveragePooling2D()(base_model.output)\n",
    "x = layers.Dense(1024, activation='relu')(x) # fully connected layer with 1024 neurons\n",
    "x = layers.Dropout(0.5)(x) # dropout layer to prevent overfitting\n",
    "x = layers.Dense(512, activation='relu')(x) # fully connected layer with 512 neurons\n",
    "x = layers.Dropout(0.5)(x) # dropout layer to prevent overfitting\n",
    "x = layers.Dense(11, activation='softmax')(x) # output layer with 11 neurons for 11 classes, converts outputs into class probabilities\n",
    "\n",
    "model = tf.keras.Model(inputs=base_model.input, outputs=x) # create the model"
   ]
  },
  {
   "cell_type": "code",
   "execution_count": 22,
   "metadata": {},
   "outputs": [],
   "source": [
    "# check for plateu in validation loss, reduce learning rate to 0.3 of original, if no improvement after 3 epochs\n",
    "learning_rate = tf.keras.callbacks.ReduceLROnPlateau(monitor='val_loss', patience=3, factor=0.3)\n",
    "\n",
    "# compile the model, with multi-class classification, adam optimizier, and accuracy as the metric\n",
    "model.compile(\n",
    "    loss = 'categorical_crossentropy',\n",
    "    optimizer = 'adam',\n",
    "    metrics = ['accuracy']\n",
    ")"
   ]
  },
  {
   "cell_type": "code",
   "execution_count": 24,
   "metadata": {},
   "outputs": [
    {
     "name": "stdout",
     "output_type": "stream",
     "text": [
      "Epoch 1/15\n",
      "\u001b[1m309/309\u001b[0m \u001b[32m━━━━━━━━━━━━━━━━━━━━\u001b[0m\u001b[37m\u001b[0m \u001b[1m0s\u001b[0m 237ms/step - accuracy: 0.4891 - loss: 1.6040"
     ]
    },
    {
     "name": "stderr",
     "output_type": "stream",
     "text": [
      "/Users/gokulelangovan/Library/Python/3.9/lib/python/site-packages/keras/src/trainers/data_adapters/py_dataset_adapter.py:121: UserWarning: Your `PyDataset` class should call `super().__init__(**kwargs)` in its constructor. `**kwargs` can include `workers`, `use_multiprocessing`, `max_queue_size`. Do not pass these arguments to `fit()`, as they will be ignored.\n",
      "  self._warn_if_super_not_called()\n"
     ]
    },
    {
     "name": "stdout",
     "output_type": "stream",
     "text": [
      "\u001b[1m309/309\u001b[0m \u001b[32m━━━━━━━━━━━━━━━━━━━━\u001b[0m\u001b[37m\u001b[0m \u001b[1m94s\u001b[0m 295ms/step - accuracy: 0.4895 - loss: 1.6028 - val_accuracy: 0.7668 - val_loss: 0.7188 - learning_rate: 0.0010\n",
      "Epoch 2/15\n",
      "\u001b[1m309/309\u001b[0m \u001b[32m━━━━━━━━━━━━━━━━━━━━\u001b[0m\u001b[37m\u001b[0m \u001b[1m92s\u001b[0m 298ms/step - accuracy: 0.7081 - loss: 0.8946 - val_accuracy: 0.7971 - val_loss: 0.6237 - learning_rate: 0.0010\n",
      "Epoch 3/15\n",
      "\u001b[1m309/309\u001b[0m \u001b[32m━━━━━━━━━━━━━━━━━━━━\u001b[0m\u001b[37m\u001b[0m \u001b[1m93s\u001b[0m 299ms/step - accuracy: 0.7409 - loss: 0.7798 - val_accuracy: 0.7980 - val_loss: 0.6300 - learning_rate: 0.0010\n",
      "Epoch 4/15\n",
      "\u001b[1m309/309\u001b[0m \u001b[32m━━━━━━━━━━━━━━━━━━━━\u001b[0m\u001b[37m\u001b[0m \u001b[1m91s\u001b[0m 295ms/step - accuracy: 0.7517 - loss: 0.7679 - val_accuracy: 0.7985 - val_loss: 0.6317 - learning_rate: 0.0010\n",
      "Epoch 5/15\n",
      "\u001b[1m309/309\u001b[0m \u001b[32m━━━━━━━━━━━━━━━━━━━━\u001b[0m\u001b[37m\u001b[0m \u001b[1m83s\u001b[0m 268ms/step - accuracy: 0.7733 - loss: 0.7093 - val_accuracy: 0.8219 - val_loss: 0.5710 - learning_rate: 0.0010\n",
      "Epoch 6/15\n",
      "\u001b[1m309/309\u001b[0m \u001b[32m━━━━━━━━━━━━━━━━━━━━\u001b[0m\u001b[37m\u001b[0m \u001b[1m77s\u001b[0m 249ms/step - accuracy: 0.7838 - loss: 0.6826 - val_accuracy: 0.8198 - val_loss: 0.5817 - learning_rate: 0.0010\n",
      "Epoch 7/15\n",
      "\u001b[1m309/309\u001b[0m \u001b[32m━━━━━━━━━━━━━━━━━━━━\u001b[0m\u001b[37m\u001b[0m \u001b[1m73s\u001b[0m 235ms/step - accuracy: 0.7896 - loss: 0.6410 - val_accuracy: 0.8324 - val_loss: 0.5306 - learning_rate: 0.0010\n",
      "Epoch 8/15\n",
      "\u001b[1m309/309\u001b[0m \u001b[32m━━━━━━━━━━━━━━━━━━━━\u001b[0m\u001b[37m\u001b[0m \u001b[1m74s\u001b[0m 238ms/step - accuracy: 0.7950 - loss: 0.6372 - val_accuracy: 0.8318 - val_loss: 0.5398 - learning_rate: 0.0010\n",
      "Epoch 9/15\n",
      "\u001b[1m309/309\u001b[0m \u001b[32m━━━━━━━━━━━━━━━━━━━━\u001b[0m\u001b[37m\u001b[0m \u001b[1m73s\u001b[0m 235ms/step - accuracy: 0.8043 - loss: 0.5975 - val_accuracy: 0.8076 - val_loss: 0.6012 - learning_rate: 0.0010\n",
      "Epoch 10/15\n",
      "\u001b[1m309/309\u001b[0m \u001b[32m━━━━━━━━━━━━━━━━━━━━\u001b[0m\u001b[37m\u001b[0m \u001b[1m73s\u001b[0m 237ms/step - accuracy: 0.8057 - loss: 0.6027 - val_accuracy: 0.8207 - val_loss: 0.5507 - learning_rate: 0.0010\n",
      "Epoch 11/15\n",
      "\u001b[1m309/309\u001b[0m \u001b[32m━━━━━━━━━━━━━━━━━━━━\u001b[0m\u001b[37m\u001b[0m \u001b[1m74s\u001b[0m 240ms/step - accuracy: 0.8294 - loss: 0.5187 - val_accuracy: 0.8391 - val_loss: 0.5039 - learning_rate: 3.0000e-04\n",
      "Epoch 12/15\n",
      "\u001b[1m309/309\u001b[0m \u001b[32m━━━━━━━━━━━━━━━━━━━━\u001b[0m\u001b[37m\u001b[0m \u001b[1m74s\u001b[0m 239ms/step - accuracy: 0.8422 - loss: 0.4795 - val_accuracy: 0.8434 - val_loss: 0.4869 - learning_rate: 3.0000e-04\n",
      "Epoch 13/15\n",
      "\u001b[1m309/309\u001b[0m \u001b[32m━━━━━━━━━━━━━━━━━━━━\u001b[0m\u001b[37m\u001b[0m \u001b[1m73s\u001b[0m 237ms/step - accuracy: 0.8451 - loss: 0.4732 - val_accuracy: 0.8399 - val_loss: 0.4859 - learning_rate: 3.0000e-04\n",
      "Epoch 14/15\n",
      "\u001b[1m309/309\u001b[0m \u001b[32m━━━━━━━━━━━━━━━━━━━━\u001b[0m\u001b[37m\u001b[0m \u001b[1m73s\u001b[0m 235ms/step - accuracy: 0.8434 - loss: 0.4638 - val_accuracy: 0.8469 - val_loss: 0.4769 - learning_rate: 3.0000e-04\n",
      "Epoch 15/15\n",
      "\u001b[1m309/309\u001b[0m \u001b[32m━━━━━━━━━━━━━━━━━━━━\u001b[0m\u001b[37m\u001b[0m \u001b[1m73s\u001b[0m 238ms/step - accuracy: 0.8508 - loss: 0.4507 - val_accuracy: 0.8510 - val_loss: 0.4828 - learning_rate: 3.0000e-04\n"
     ]
    }
   ],
   "source": [
    "# train the model, with 15 epochs, and the learning rate callback\n",
    "# epoch is a single pass through the training dataset, there are 15 passes through the dataset\n",
    "learning_model = model.fit(train_dataset, validation_data=valid_dataset, epochs=15, callbacks=[learning_rate])"
   ]
  },
  {
   "cell_type": "code",
   "execution_count": 25,
   "metadata": {},
   "outputs": [
    {
     "name": "stderr",
     "output_type": "stream",
     "text": [
      "WARNING:absl:You are saving your model as an HDF5 file via `model.save()` or `keras.saving.save_model(model)`. This file format is considered legacy. We recommend using instead the native Keras format, e.g. `model.save('my_model.keras')` or `keras.saving.save_model(model, 'my_model.keras')`. \n"
     ]
    }
   ],
   "source": [
    "model.save('initial_model.h5')"
   ]
  },
  {
   "cell_type": "code",
   "execution_count": 26,
   "metadata": {},
   "outputs": [],
   "source": [
    "# fine-tuning the model, unfreeze the base model to permit chanes in all layers, and recompile the model once more\n",
    "base_model.trainable = True\n",
    "\n",
    "model.compile(\n",
    "    loss = 'categorical_crossentropy',\n",
    "    optimizer = tf.keras.optimizers.Adam(learning_rate=1e-5),\n",
    "    metrics = ['accuracy']\n",
    ")"
   ]
  },
  {
   "cell_type": "code",
   "execution_count": 27,
   "metadata": {},
   "outputs": [
    {
     "name": "stdout",
     "output_type": "stream",
     "text": [
      "Epoch 1/20\n",
      "\u001b[1m309/309\u001b[0m \u001b[32m━━━━━━━━━━━━━━━━━━━━\u001b[0m\u001b[37m\u001b[0m \u001b[1m261s\u001b[0m 818ms/step - accuracy: 0.5816 - loss: 1.7111 - val_accuracy: 0.8423 - val_loss: 0.5310 - learning_rate: 1.0000e-05\n",
      "Epoch 2/20\n",
      "\u001b[1m309/309\u001b[0m \u001b[32m━━━━━━━━━━━━━━━━━━━━\u001b[0m\u001b[37m\u001b[0m \u001b[1m256s\u001b[0m 828ms/step - accuracy: 0.7537 - loss: 0.7589 - val_accuracy: 0.8469 - val_loss: 0.5166 - learning_rate: 1.0000e-05\n",
      "Epoch 3/20\n",
      "\u001b[1m309/309\u001b[0m \u001b[32m━━━━━━━━━━━━━━━━━━━━\u001b[0m\u001b[37m\u001b[0m \u001b[1m249s\u001b[0m 804ms/step - accuracy: 0.7884 - loss: 0.6475 - val_accuracy: 0.8455 - val_loss: 0.5097 - learning_rate: 1.0000e-05\n",
      "Epoch 4/20\n",
      "\u001b[1m309/309\u001b[0m \u001b[32m━━━━━━━━━━━━━━━━━━━━\u001b[0m\u001b[37m\u001b[0m \u001b[1m251s\u001b[0m 813ms/step - accuracy: 0.8172 - loss: 0.5745 - val_accuracy: 0.8472 - val_loss: 0.4851 - learning_rate: 1.0000e-05\n",
      "Epoch 5/20\n",
      "\u001b[1m309/309\u001b[0m \u001b[32m━━━━━━━━━━━━━━━━━━━━\u001b[0m\u001b[37m\u001b[0m \u001b[1m253s\u001b[0m 817ms/step - accuracy: 0.8159 - loss: 0.5541 - val_accuracy: 0.8472 - val_loss: 0.4709 - learning_rate: 1.0000e-05\n",
      "Epoch 6/20\n",
      "\u001b[1m309/309\u001b[0m \u001b[32m━━━━━━━━━━━━━━━━━━━━\u001b[0m\u001b[37m\u001b[0m \u001b[1m257s\u001b[0m 831ms/step - accuracy: 0.8377 - loss: 0.5076 - val_accuracy: 0.8522 - val_loss: 0.4641 - learning_rate: 1.0000e-05\n",
      "Epoch 7/20\n",
      "\u001b[1m309/309\u001b[0m \u001b[32m━━━━━━━━━━━━━━━━━━━━\u001b[0m\u001b[37m\u001b[0m \u001b[1m252s\u001b[0m 816ms/step - accuracy: 0.8435 - loss: 0.4874 - val_accuracy: 0.8536 - val_loss: 0.4557 - learning_rate: 1.0000e-05\n",
      "Epoch 8/20\n",
      "\u001b[1m309/309\u001b[0m \u001b[32m━━━━━━━━━━━━━━━━━━━━\u001b[0m\u001b[37m\u001b[0m \u001b[1m254s\u001b[0m 821ms/step - accuracy: 0.8573 - loss: 0.4577 - val_accuracy: 0.8545 - val_loss: 0.4488 - learning_rate: 1.0000e-05\n",
      "Epoch 9/20\n",
      "\u001b[1m309/309\u001b[0m \u001b[32m━━━━━━━━━━━━━━━━━━━━\u001b[0m\u001b[37m\u001b[0m \u001b[1m247s\u001b[0m 799ms/step - accuracy: 0.8609 - loss: 0.4265 - val_accuracy: 0.8615 - val_loss: 0.4399 - learning_rate: 1.0000e-05\n",
      "Epoch 10/20\n",
      "\u001b[1m309/309\u001b[0m \u001b[32m━━━━━━━━━━━━━━━━━━━━\u001b[0m\u001b[37m\u001b[0m \u001b[1m248s\u001b[0m 801ms/step - accuracy: 0.8625 - loss: 0.4195 - val_accuracy: 0.8580 - val_loss: 0.4412 - learning_rate: 1.0000e-05\n",
      "Epoch 11/20\n",
      "\u001b[1m309/309\u001b[0m \u001b[32m━━━━━━━━━━━━━━━━━━━━\u001b[0m\u001b[37m\u001b[0m \u001b[1m260s\u001b[0m 841ms/step - accuracy: 0.8822 - loss: 0.3652 - val_accuracy: 0.8586 - val_loss: 0.4490 - learning_rate: 1.0000e-05\n",
      "Epoch 12/20\n",
      "\u001b[1m309/309\u001b[0m \u001b[32m━━━━━━━━━━━━━━━━━━━━\u001b[0m\u001b[37m\u001b[0m \u001b[1m247s\u001b[0m 798ms/step - accuracy: 0.8788 - loss: 0.3921 - val_accuracy: 0.8627 - val_loss: 0.4308 - learning_rate: 1.0000e-05\n",
      "Epoch 13/20\n",
      "\u001b[1m309/309\u001b[0m \u001b[32m━━━━━━━━━━━━━━━━━━━━\u001b[0m\u001b[37m\u001b[0m \u001b[1m247s\u001b[0m 799ms/step - accuracy: 0.8801 - loss: 0.3768 - val_accuracy: 0.8595 - val_loss: 0.4390 - learning_rate: 1.0000e-05\n",
      "Epoch 14/20\n",
      "\u001b[1m309/309\u001b[0m \u001b[32m━━━━━━━━━━━━━━━━━━━━\u001b[0m\u001b[37m\u001b[0m \u001b[1m247s\u001b[0m 798ms/step - accuracy: 0.8896 - loss: 0.3487 - val_accuracy: 0.8641 - val_loss: 0.4243 - learning_rate: 1.0000e-05\n",
      "Epoch 15/20\n",
      "\u001b[1m309/309\u001b[0m \u001b[32m━━━━━━━━━━━━━━━━━━━━\u001b[0m\u001b[37m\u001b[0m \u001b[1m247s\u001b[0m 798ms/step - accuracy: 0.8968 - loss: 0.3235 - val_accuracy: 0.8638 - val_loss: 0.4249 - learning_rate: 1.0000e-05\n",
      "Epoch 16/20\n",
      "\u001b[1m309/309\u001b[0m \u001b[32m━━━━━━━━━━━━━━━━━━━━\u001b[0m\u001b[37m\u001b[0m \u001b[1m243s\u001b[0m 786ms/step - accuracy: 0.8928 - loss: 0.3259 - val_accuracy: 0.8668 - val_loss: 0.4161 - learning_rate: 1.0000e-05\n",
      "Epoch 17/20\n",
      "\u001b[1m309/309\u001b[0m \u001b[32m━━━━━━━━━━━━━━━━━━━━\u001b[0m\u001b[37m\u001b[0m \u001b[1m246s\u001b[0m 797ms/step - accuracy: 0.9014 - loss: 0.3070 - val_accuracy: 0.8697 - val_loss: 0.4056 - learning_rate: 1.0000e-05\n",
      "Epoch 18/20\n",
      "\u001b[1m309/309\u001b[0m \u001b[32m━━━━━━━━━━━━━━━━━━━━\u001b[0m\u001b[37m\u001b[0m \u001b[1m249s\u001b[0m 805ms/step - accuracy: 0.9059 - loss: 0.2929 - val_accuracy: 0.8720 - val_loss: 0.4054 - learning_rate: 1.0000e-05\n",
      "Epoch 19/20\n",
      "\u001b[1m309/309\u001b[0m \u001b[32m━━━━━━━━━━━━━━━━━━━━\u001b[0m\u001b[37m\u001b[0m \u001b[1m247s\u001b[0m 801ms/step - accuracy: 0.9102 - loss: 0.2829 - val_accuracy: 0.8738 - val_loss: 0.4024 - learning_rate: 1.0000e-05\n",
      "Epoch 20/20\n",
      "\u001b[1m309/309\u001b[0m \u001b[32m━━━━━━━━━━━━━━━━━━━━\u001b[0m\u001b[37m\u001b[0m \u001b[1m246s\u001b[0m 796ms/step - accuracy: 0.9146 - loss: 0.2765 - val_accuracy: 0.8706 - val_loss: 0.4066 - learning_rate: 1.0000e-05\n"
     ]
    }
   ],
   "source": [
    "# finetune using 20 epochs, passsing through the validation dataset\n",
    "tuned_learning_model = model.fit(train_dataset, validation_data=valid_dataset, epochs=20, callbacks=[learning_rate])\n",
    "# original epoch = 25"
   ]
  },
  {
   "cell_type": "code",
   "execution_count": 28,
   "metadata": {},
   "outputs": [
    {
     "name": "stderr",
     "output_type": "stream",
     "text": [
      "WARNING:absl:You are saving your model as an HDF5 file via `model.save()` or `keras.saving.save_model(model)`. This file format is considered legacy. We recommend using instead the native Keras format, e.g. `model.save('my_model.keras')` or `keras.saving.save_model(model, 'my_model.keras')`. \n"
     ]
    }
   ],
   "source": [
    "model.save('tuned_model.h5')"
   ]
  },
  {
   "cell_type": "code",
   "execution_count": 29,
   "metadata": {},
   "outputs": [
    {
     "data": {
      "text/plain": [
       "<matplotlib.legend.Legend at 0x1698e2130>"
      ]
     },
     "execution_count": 29,
     "metadata": {},
     "output_type": "execute_result"
    },
    {
     "data": {
      "image/png": "[encoded data removed]",
      "text/plain": [
       "<Figure size 1000x300 with 2 Axes>"
      ]
     },
     "metadata": {},
     "output_type": "display_data"
    }
   ],
   "source": [
    "# visualize the difference accross training and validation data\n",
    "plt.figure(figsize=(10, 3))\n",
    "\n",
    "plt.subplot(1, 2, 1)\n",
    "plt.title('Train and Validation Accuracy')\n",
    "plt.plot(tuned_learning_model.history['accuracy'], label='Accuracy')\n",
    "plt.plot(tuned_learning_model.history['val_accuracy'], label='Validation Accuracy')\n",
    "plt.xlabel('Epochs')\n",
    "plt.ylabel('Accuracy')\n",
    "plt.legend()\n",
    "\n",
    "plt.subplot(1, 2, 2)\n",
    "plt.title('Train and Validation Loss')\n",
    "plt.plot(tuned_learning_model.history['loss'], label='Loss')\n",
    "plt.plot(tuned_learning_model.history['val_loss'], label='Validation Loss')\n",
    "plt.xlabel('Epochs')\n",
    "plt.ylabel('Loss')\n",
    "plt.legend()\n",
    "# generally, accuracy increases and loss decreases as the model trains\n",
    "# loss signifies how far the model is from the expected labels, smaler loss is better"
   ]
  },
  {
   "cell_type": "code",
   "execution_count": 30,
   "metadata": {},
   "outputs": [
    {
     "name": "stdout",
     "output_type": "stream",
     "text": [
      "\u001b[1m309/309\u001b[0m \u001b[32m━━━━━━━━━━━━━━━━━━━━\u001b[0m\u001b[37m\u001b[0m \u001b[1m57s\u001b[0m 186ms/step - accuracy: 0.9536 - loss: 0.1513\n",
      "\u001b[1m108/108\u001b[0m \u001b[32m━━━━━━━━━━━━━━━━━━━━\u001b[0m\u001b[37m\u001b[0m \u001b[1m14s\u001b[0m 131ms/step - accuracy: 0.8700 - loss: 0.3995\n",
      "Train Dataset Accuracy:  0.9509426355361938\n",
      "Train Dataset Loss:  0.15619337558746338\n",
      "----------------------------------------\n",
      "Validation Dataset Accuracy:  0.8705539107322693\n",
      "Validation Dataset Loss:  0.40658822655677795\n",
      "----------------------------------------\n"
     ]
    }
   ],
   "source": [
    "# evaluate the model on the training and validation datasets to assess performance\n",
    "result_train = model.evaluate(train_dataset)\n",
    "result_val = model.evaluate(valid_dataset)\n",
    "\n",
    "print('Train Dataset Accuracy: ', result_train[1])\n",
    "print('Train Dataset Loss: ', result_train[0])\n",
    "print('-' * 40)\n",
    "\n",
    "print('Validation Dataset Accuracy: ', result_val[1])\n",
    "print('Validation Dataset Loss: ', result_val[0])\n",
    "print('-' * 40)"
   ]
  }
 ],
 "metadata": {
  "kernelspec": {
   "display_name": "Python 3",
   "language": "python",
   "name": "python3"
  },
  "language_info": {
   "codemirror_mode": {
    "name": "ipython",
    "version": 3
   },
   "file_extension": ".py",
   "mimetype": "text/x-python",
   "name": "python",
   "nbconvert_exporter": "python",
   "pygments_lexer": "ipython3",
   "version": "3.9.6"
  }
 },
 "nbformat": 4,
 "nbformat_minor": 2
}
