{
 "cells": [
  {
   "cell_type": "code",
   "execution_count": 6,
   "metadata": {},
   "outputs": [],
   "source": [
    "import tensorflow as tf\n",
    "from tensorflow.keras import layers\n",
    "from tensorflow.keras.preprocessing.image import ImageDataGenerator\n",
    "from tensorflow.keras.applications import MobileNetV2\n",
    "\n",
    "import numpy as np\n",
    "import os\n",
    "import cv2\n",
    "import matplotlib.pyplot as plt"
   ]
  },
  {
   "cell_type": "code",
   "execution_count": 7,
   "metadata": {},
   "outputs": [
    {
     "name": "stdout",
     "output_type": "stream",
     "text": [
      "/Users/gokulelangovan/Downloads/hack_ru_2025/hackru-s25-atop-the-stove/python_LLM_CV_integration\n"
     ]
    }
   ],
   "source": [
    "print(os.getcwd())"
   ]
  },
  {
   "cell_type": "code",
   "execution_count": 14,
   "metadata": {},
   "outputs": [],
   "source": [
    "train_datagen = ImageDataGenerator(\n",
    "    rescale = 1./255, # scales the image pixel values to be between 0 and 1\n",
    "    zoom_range = 0.2, # random zoom by 20%\n",
    "    shear_range = 0.2, # distortion along one axis by up to 20%\n",
    "    width_shift_range = 0.2, # left or right shift by 20%\n",
    "    height_shift_range = 0.2, # up or down shift by 20%\n",
    "    rotation_range = 25, # rotation +- 25 degrees\n",
    "    horizontal_flip = True, # flips img horizontally 50% of the time\n",
    "    fill_mode = 'nearest' # fill missing pixels with the nearest pixel\n",
    ")\n",
    "# the purpose of these alternations are to make the model more robust to different types of images\n",
    "\n",
    "valid_datagen = ImageDataGenerator(rescale=1./255)\n",
    "# scale the validation images to be between 0 and 1, no other augmentations for validation data\n",
    "\n",
    "test_datagen = ImageDataGenerator(rescale=1./255)\n",
    "# scale the validation images to be between 0 and 1, no other augmentations for test data"
   ]
  },
  {
   "cell_type": "code",
   "execution_count": null,
   "metadata": {},
   "outputs": [
    {
     "name": "stdout",
     "output_type": "stream",
     "text": [
      "Found 9866 images belonging to 11 classes.\n",
      "Found 3430 images belonging to 11 classes.\n",
      "Found 3347 images belonging to 11 classes.\n"
     ]
    }
   ],
   "source": [
    "# load the data from the directories\n",
    "# target size the typical size expected for CNN\n",
    "# batch images in groups of 32\n",
    "# there are 11 classes, i.e. types in the dataset\n",
    "# use shuffle to randomize image order for training\n",
    "\n",
    "train_dataset = train_datagen.flow_from_directory(\n",
    "    './training',\n",
    "    target_size = (224, 224),\n",
    "    batch_size = 32,\n",
    "    class_mode = 'categorical',\n",
    "    shuffle = True,\n",
    ") \n",
    "\n",
    "valid_dataset = valid_datagen.flow_from_directory(\n",
    "    './validation',\n",
    "    target_size = (224, 224),\n",
    "    batch_size = 32,\n",
    "    class_mode = 'categorical',\n",
    ") \n",
    "\n",
    "test_dataset = test_datagen.flow_from_directory(\n",
    "    './evaluation',\n",
    "    target_size = (224, 224),\n",
    "    batch_size = 32,\n",
    "    class_mode = 'categorical',\n",
    ")"
   ]
  },
  {
   "cell_type": "code",
   "execution_count": 10,
   "metadata": {},
   "outputs": [
    {
     "name": "stdout",
     "output_type": "stream",
     "text": [
      "{'Bread': 0, 'Dairy product': 1, 'Dessert': 2, 'Egg': 3, 'Fried food': 4, 'Meat': 5, 'Noodles-Pasta': 6, 'Rice': 7, 'Seafood': 8, 'Soup': 9, 'Vegetable-Fruit': 10}\n"
     ]
    }
   ],
   "source": [
    "# confirm class order\n",
    "print(train_dataset.class_indices)"
   ]
  },
  {
   "cell_type": "code",
   "execution_count": null,
   "metadata": {},
   "outputs": [],
   "source": [
    "# create the model, using MobileNetV2 as the base model, removes layers of classification to create custom layers, fits to ccorrect image size\n",
    "base_model = MobileNetV2(weights='imagenet', include_top=False, input_shape=(224, 224, 3))\n",
    "# weights are not altered in training, we rather add custom layers to the model as we train\n",
    "base_model.trainable = False\n",
    "\n",
    "# ceate classification ustom layers\n",
    "x = layers.GlobalAveragePooling2D()(base_model.output)\n",
    "x = layers.Dense(1024, activation='relu')(x) # fully connected layer with 1024 neurons\n",
    "x = layers.Dropout(0.5)(x) # dropout layer to prevent overfitting\n",
    "x = layers.Dense(512, activation='relu')(x) # fully connected layer with 512 neurons\n",
    "x = layers.Dropout(0.5)(x) # dropout layer to prevent overfitting\n",
    "x = layers.Dense(11, activation='softmax')(x) # output layer with 11 neurons for 11 classes, converts outputs into class probabilities\n",
    "\n",
    "model = tf.keras.Model(inputs=base_model.input, outputs=x) # create the model"
   ]
  },
  {
   "cell_type": "code",
   "execution_count": 12,
   "metadata": {},
   "outputs": [],
   "source": [
    "# check for plateu in validation loss, reduce learning rate to 0.3 of original, if no improvement after 3 epochs\n",
    "learning_rate = tf.keras.callbacks.ReduceLROnPlateau(monitor='val_loss', patience=3, factor=0.3)\n",
    "\n",
    "# compile the model, with multi-class classification, adam optimizier, and accuracy as the metric\n",
    "model.compile(\n",
    "    loss = 'categorical_crossentropy',\n",
    "    optimizer = 'adam',\n",
    "    metrics = ['accuracy']\n",
    ")"
   ]
  },
  {
   "cell_type": "code",
   "execution_count": 22,
   "metadata": {},
   "outputs": [
    {
     "name": "stdout",
     "output_type": "stream",
     "text": [
      "Epoch 1/15\n",
      "\u001b[1m309/309\u001b[0m \u001b[32m━━━━━━━━━━━━━━━━━━━━\u001b[0m\u001b[37m\u001b[0m \u001b[1m96s\u001b[0m 303ms/step - accuracy: 0.4936 - loss: 1.5858 - val_accuracy: 0.7434 - val_loss: 0.7742 - learning_rate: 0.0010\n",
      "Epoch 2/15\n",
      "\u001b[1m309/309\u001b[0m \u001b[32m━━━━━━━━━━━━━━━━━━━━\u001b[0m\u001b[37m\u001b[0m \u001b[1m96s\u001b[0m 311ms/step - accuracy: 0.7092 - loss: 0.8918 - val_accuracy: 0.8032 - val_loss: 0.6484 - learning_rate: 0.0010\n",
      "Epoch 3/15\n",
      "\u001b[1m309/309\u001b[0m \u001b[32m━━━━━━━━━━━━━━━━━━━━\u001b[0m\u001b[37m\u001b[0m \u001b[1m97s\u001b[0m 312ms/step - accuracy: 0.7449 - loss: 0.8027 - val_accuracy: 0.7945 - val_loss: 0.6223 - learning_rate: 0.0010\n",
      "Epoch 4/15\n",
      "\u001b[1m309/309\u001b[0m \u001b[32m━━━━━━━━━━━━━━━━━━━━\u001b[0m\u001b[37m\u001b[0m \u001b[1m98s\u001b[0m 317ms/step - accuracy: 0.7474 - loss: 0.7535 - val_accuracy: 0.8067 - val_loss: 0.6183 - learning_rate: 0.0010\n",
      "Epoch 5/15\n",
      "\u001b[1m309/309\u001b[0m \u001b[32m━━━━━━━━━━━━━━━━━━━━\u001b[0m\u001b[37m\u001b[0m \u001b[1m98s\u001b[0m 318ms/step - accuracy: 0.7771 - loss: 0.6859 - val_accuracy: 0.8198 - val_loss: 0.5818 - learning_rate: 0.0010\n",
      "Epoch 6/15\n",
      "\u001b[1m309/309\u001b[0m \u001b[32m━━━━━━━━━━━━━━━━━━━━\u001b[0m\u001b[37m\u001b[0m \u001b[1m100s\u001b[0m 323ms/step - accuracy: 0.7771 - loss: 0.6828 - val_accuracy: 0.8207 - val_loss: 0.5711 - learning_rate: 0.0010\n",
      "Epoch 7/15\n",
      "\u001b[1m309/309\u001b[0m \u001b[32m━━━━━━━━━━━━━━━━━━━━\u001b[0m\u001b[37m\u001b[0m \u001b[1m98s\u001b[0m 317ms/step - accuracy: 0.7836 - loss: 0.6596 - val_accuracy: 0.8274 - val_loss: 0.5483 - learning_rate: 0.0010\n",
      "Epoch 8/15\n",
      "\u001b[1m309/309\u001b[0m \u001b[32m━━━━━━━━━━━━━━━━━━━━\u001b[0m\u001b[37m\u001b[0m \u001b[1m95s\u001b[0m 307ms/step - accuracy: 0.7799 - loss: 0.6530 - val_accuracy: 0.8283 - val_loss: 0.5408 - learning_rate: 0.0010\n",
      "Epoch 9/15\n",
      "\u001b[1m309/309\u001b[0m \u001b[32m━━━━━━━━━━━━━━━━━━━━\u001b[0m\u001b[37m\u001b[0m \u001b[1m99s\u001b[0m 320ms/step - accuracy: 0.7914 - loss: 0.6403 - val_accuracy: 0.8248 - val_loss: 0.5521 - learning_rate: 0.0010\n",
      "Epoch 10/15\n",
      "\u001b[1m309/309\u001b[0m \u001b[32m━━━━━━━━━━━━━━━━━━━━\u001b[0m\u001b[37m\u001b[0m \u001b[1m97s\u001b[0m 314ms/step - accuracy: 0.7960 - loss: 0.6424 - val_accuracy: 0.8335 - val_loss: 0.5372 - learning_rate: 0.0010\n",
      "Epoch 11/15\n",
      "\u001b[1m309/309\u001b[0m \u001b[32m━━━━━━━━━━━━━━━━━━━━\u001b[0m\u001b[37m\u001b[0m \u001b[1m97s\u001b[0m 313ms/step - accuracy: 0.8161 - loss: 0.5618 - val_accuracy: 0.8373 - val_loss: 0.5267 - learning_rate: 0.0010\n",
      "Epoch 12/15\n",
      "\u001b[1m309/309\u001b[0m \u001b[32m━━━━━━━━━━━━━━━━━━━━\u001b[0m\u001b[37m\u001b[0m \u001b[1m97s\u001b[0m 312ms/step - accuracy: 0.8075 - loss: 0.5909 - val_accuracy: 0.8262 - val_loss: 0.5647 - learning_rate: 0.0010\n",
      "Epoch 13/15\n",
      "\u001b[1m309/309\u001b[0m \u001b[32m━━━━━━━━━━━━━━━━━━━━\u001b[0m\u001b[37m\u001b[0m \u001b[1m95s\u001b[0m 308ms/step - accuracy: 0.8244 - loss: 0.5431 - val_accuracy: 0.8373 - val_loss: 0.5509 - learning_rate: 0.0010\n",
      "Epoch 14/15\n",
      "\u001b[1m309/309\u001b[0m \u001b[32m━━━━━━━━━━━━━━━━━━━━\u001b[0m\u001b[37m\u001b[0m \u001b[1m96s\u001b[0m 311ms/step - accuracy: 0.8149 - loss: 0.5751 - val_accuracy: 0.8399 - val_loss: 0.5272 - learning_rate: 0.0010\n",
      "Epoch 15/15\n",
      "\u001b[1m309/309\u001b[0m \u001b[32m━━━━━━━━━━━━━━━━━━━━\u001b[0m\u001b[37m\u001b[0m \u001b[1m99s\u001b[0m 321ms/step - accuracy: 0.8343 - loss: 0.5126 - val_accuracy: 0.8443 - val_loss: 0.4960 - learning_rate: 3.0000e-04\n"
     ]
    }
   ],
   "source": [
    "# train the model, with 15 epochs, and the learning rate callback\n",
    "# epoch is a single pass through the training dataset, there are 15 passes through the dataset\n",
    "learning_model = model.fit(train_dataset, validation_data=valid_dataset, epochs=15, callbacks=[learning_rate])"
   ]
  },
  {
   "cell_type": "code",
   "execution_count": 15,
   "metadata": {},
   "outputs": [
    {
     "name": "stderr",
     "output_type": "stream",
     "text": [
      "WARNING:absl:You are saving your model as an HDF5 file via `model.save()` or `keras.saving.save_model(model)`. This file format is considered legacy. We recommend using instead the native Keras format, e.g. `model.save('my_model.keras')` or `keras.saving.save_model(model, 'my_model.keras')`. \n"
     ]
    }
   ],
   "source": [
    "model.save('initial_model.h5')"
   ]
  },
  {
   "cell_type": "code",
   "execution_count": 28,
   "metadata": {},
   "outputs": [],
   "source": [
    "# fine-tuning the model, unfreeze the base model to permit chanes in all layers, and recompile the model once more\n",
    "base_model.trainable = True\n",
    "\n",
    "model.compile(\n",
    "    loss = 'categorical_crossentropy',\n",
    "    optimizer = tf.keras.optimizers.Adam(learning_rate=1e-5),\n",
    "    metrics = ['accuracy']\n",
    ")"
   ]
  },
  {
   "cell_type": "code",
   "execution_count": 29,
   "metadata": {},
   "outputs": [
    {
     "name": "stdout",
     "output_type": "stream",
     "text": [
      "Epoch 1/20\n",
      "\u001b[1m309/309\u001b[0m \u001b[32m━━━━━━━━━━━━━━━━━━━━\u001b[0m\u001b[37m\u001b[0m \u001b[1m250s\u001b[0m 782ms/step - accuracy: 0.9171 - loss: 0.2710 - val_accuracy: 0.8770 - val_loss: 0.4046 - learning_rate: 1.0000e-05\n",
      "Epoch 2/20\n",
      "\u001b[1m309/309\u001b[0m \u001b[32m━━━━━━━━━━━━━━━━━━━━\u001b[0m\u001b[37m\u001b[0m \u001b[1m241s\u001b[0m 780ms/step - accuracy: 0.9194 - loss: 0.2503 - val_accuracy: 0.8773 - val_loss: 0.3964 - learning_rate: 1.0000e-05\n",
      "Epoch 3/20\n",
      "\u001b[1m309/309\u001b[0m \u001b[32m━━━━━━━━━━━━━━━━━━━━\u001b[0m\u001b[37m\u001b[0m \u001b[1m246s\u001b[0m 794ms/step - accuracy: 0.9207 - loss: 0.2590 - val_accuracy: 0.8732 - val_loss: 0.3986 - learning_rate: 1.0000e-05\n",
      "Epoch 4/20\n",
      "\u001b[1m309/309\u001b[0m \u001b[32m━━━━━━━━━━━━━━━━━━━━\u001b[0m\u001b[37m\u001b[0m \u001b[1m241s\u001b[0m 780ms/step - accuracy: 0.9263 - loss: 0.2313 - val_accuracy: 0.8828 - val_loss: 0.3837 - learning_rate: 1.0000e-05\n",
      "Epoch 5/20\n",
      "\u001b[1m309/309\u001b[0m \u001b[32m━━━━━━━━━━━━━━━━━━━━\u001b[0m\u001b[37m\u001b[0m \u001b[1m241s\u001b[0m 779ms/step - accuracy: 0.9294 - loss: 0.2292 - val_accuracy: 0.8805 - val_loss: 0.3892 - learning_rate: 1.0000e-05\n",
      "Epoch 6/20\n",
      "\u001b[1m309/309\u001b[0m \u001b[32m━━━━━━━━━━━━━━━━━━━━\u001b[0m\u001b[37m\u001b[0m \u001b[1m245s\u001b[0m 792ms/step - accuracy: 0.9206 - loss: 0.2443 - val_accuracy: 0.8790 - val_loss: 0.3961 - learning_rate: 1.0000e-05\n",
      "Epoch 7/20\n",
      "\u001b[1m309/309\u001b[0m \u001b[32m━━━━━━━━━━━━━━━━━━━━\u001b[0m\u001b[37m\u001b[0m \u001b[1m247s\u001b[0m 798ms/step - accuracy: 0.9274 - loss: 0.2223 - val_accuracy: 0.8813 - val_loss: 0.3878 - learning_rate: 1.0000e-05\n",
      "Epoch 8/20\n",
      "\u001b[1m309/309\u001b[0m \u001b[32m━━━━━━━━━━━━━━━━━━━━\u001b[0m\u001b[37m\u001b[0m \u001b[1m243s\u001b[0m 786ms/step - accuracy: 0.9318 - loss: 0.2101 - val_accuracy: 0.8816 - val_loss: 0.3828 - learning_rate: 3.0000e-06\n",
      "Epoch 9/20\n",
      "\u001b[1m309/309\u001b[0m \u001b[32m━━━━━━━━━━━━━━━━━━━━\u001b[0m\u001b[37m\u001b[0m \u001b[1m241s\u001b[0m 781ms/step - accuracy: 0.9345 - loss: 0.2092 - val_accuracy: 0.8799 - val_loss: 0.3839 - learning_rate: 3.0000e-06\n",
      "Epoch 10/20\n",
      "\u001b[1m309/309\u001b[0m \u001b[32m━━━━━━━━━━━━━━━━━━━━\u001b[0m\u001b[37m\u001b[0m \u001b[1m242s\u001b[0m 783ms/step - accuracy: 0.9328 - loss: 0.2210 - val_accuracy: 0.8816 - val_loss: 0.3879 - learning_rate: 3.0000e-06\n",
      "Epoch 11/20\n",
      "\u001b[1m309/309\u001b[0m \u001b[32m━━━━━━━━━━━━━━━━━━━━\u001b[0m\u001b[37m\u001b[0m \u001b[1m239s\u001b[0m 774ms/step - accuracy: 0.9410 - loss: 0.1970 - val_accuracy: 0.8796 - val_loss: 0.3881 - learning_rate: 3.0000e-06\n",
      "Epoch 12/20\n",
      "\u001b[1m309/309\u001b[0m \u001b[32m━━━━━━━━━━━━━━━━━━━━\u001b[0m\u001b[37m\u001b[0m \u001b[1m248s\u001b[0m 804ms/step - accuracy: 0.9307 - loss: 0.2143 - val_accuracy: 0.8796 - val_loss: 0.3898 - learning_rate: 9.0000e-07\n",
      "Epoch 13/20\n",
      "\u001b[1m309/309\u001b[0m \u001b[32m━━━━━━━━━━━━━━━━━━━━\u001b[0m\u001b[37m\u001b[0m \u001b[1m247s\u001b[0m 798ms/step - accuracy: 0.9373 - loss: 0.1979 - val_accuracy: 0.8790 - val_loss: 0.3916 - learning_rate: 9.0000e-07\n",
      "Epoch 14/20\n",
      "\u001b[1m309/309\u001b[0m \u001b[32m━━━━━━━━━━━━━━━━━━━━\u001b[0m\u001b[37m\u001b[0m \u001b[1m247s\u001b[0m 799ms/step - accuracy: 0.9326 - loss: 0.2015 - val_accuracy: 0.8793 - val_loss: 0.3919 - learning_rate: 9.0000e-07\n",
      "Epoch 15/20\n",
      "\u001b[1m309/309\u001b[0m \u001b[32m━━━━━━━━━━━━━━━━━━━━\u001b[0m\u001b[37m\u001b[0m \u001b[1m245s\u001b[0m 793ms/step - accuracy: 0.9343 - loss: 0.2038 - val_accuracy: 0.8784 - val_loss: 0.3917 - learning_rate: 2.7000e-07\n",
      "Epoch 16/20\n",
      "\u001b[1m309/309\u001b[0m \u001b[32m━━━━━━━━━━━━━━━━━━━━\u001b[0m\u001b[37m\u001b[0m \u001b[1m247s\u001b[0m 798ms/step - accuracy: 0.9329 - loss: 0.2031 - val_accuracy: 0.8790 - val_loss: 0.3919 - learning_rate: 2.7000e-07\n",
      "Epoch 17/20\n",
      "\u001b[1m309/309\u001b[0m \u001b[32m━━━━━━━━━━━━━━━━━━━━\u001b[0m\u001b[37m\u001b[0m \u001b[1m244s\u001b[0m 790ms/step - accuracy: 0.9333 - loss: 0.2139 - val_accuracy: 0.8793 - val_loss: 0.3918 - learning_rate: 2.7000e-07\n",
      "Epoch 18/20\n",
      "\u001b[1m309/309\u001b[0m \u001b[32m━━━━━━━━━━━━━━━━━━━━\u001b[0m\u001b[37m\u001b[0m \u001b[1m249s\u001b[0m 807ms/step - accuracy: 0.9342 - loss: 0.1933 - val_accuracy: 0.8790 - val_loss: 0.3921 - learning_rate: 8.1000e-08\n",
      "Epoch 19/20\n",
      "\u001b[1m309/309\u001b[0m \u001b[32m━━━━━━━━━━━━━━━━━━━━\u001b[0m\u001b[37m\u001b[0m \u001b[1m246s\u001b[0m 796ms/step - accuracy: 0.9403 - loss: 0.1851 - val_accuracy: 0.8790 - val_loss: 0.3924 - learning_rate: 8.1000e-08\n",
      "Epoch 20/20\n",
      "\u001b[1m309/309\u001b[0m \u001b[32m━━━━━━━━━━━━━━━━━━━━\u001b[0m\u001b[37m\u001b[0m \u001b[1m242s\u001b[0m 784ms/step - accuracy: 0.9360 - loss: 0.2012 - val_accuracy: 0.8796 - val_loss: 0.3921 - learning_rate: 8.1000e-08\n"
     ]
    }
   ],
   "source": [
    "# finetune using 20 epochs, passsing through the validation dataset\n",
    "tuned_learning_model = model.fit(train_dataset, validation_data=valid_dataset, epochs=20, callbacks=[learning_rate])\n",
    "# original epoch = 25"
   ]
  },
  {
   "cell_type": "code",
   "execution_count": 30,
   "metadata": {},
   "outputs": [
    {
     "name": "stderr",
     "output_type": "stream",
     "text": [
      "WARNING:absl:You are saving your model as an HDF5 file via `model.save()` or `keras.saving.save_model(model)`. This file format is considered legacy. We recommend using instead the native Keras format, e.g. `model.save('my_model.keras')` or `keras.saving.save_model(model, 'my_model.keras')`. \n"
     ]
    }
   ],
   "source": [
    "model.save('tuned_model.h5')"
   ]
  },
  {
   "cell_type": "code",
   "execution_count": 31,
   "metadata": {},
   "outputs": [
    {
     "data": {
      "text/plain": [
       "<matplotlib.legend.Legend at 0x357cbfac0>"
      ]
     },
     "execution_count": 31,
     "metadata": {},
     "output_type": "execute_result"
    },
    {
     "data": {
      "image/png": "[encoded data removed]",
      "text/plain": [
       "<Figure size 1000x300 with 2 Axes>"
      ]
     },
     "metadata": {},
     "output_type": "display_data"
    }
   ],
   "source": [
    "# visualize the difference accross training and validation data\n",
    "plt.figure(figsize=(10, 3))\n",
    "\n",
    "plt.subplot(1, 2, 1)\n",
    "plt.title('Train and Validation Accuracy')\n",
    "plt.plot(tuned_learning_model.history['accuracy'], label='Accuracy')\n",
    "plt.plot(tuned_learning_model.history['val_accuracy'], label='Validation Accuracy')\n",
    "plt.xlabel('Epochs')\n",
    "plt.ylabel('Accuracy')\n",
    "plt.legend()\n",
    "\n",
    "plt.subplot(1, 2, 2)\n",
    "plt.title('Train and Validation Loss')\n",
    "plt.plot(tuned_learning_model.history['loss'], label='Loss')\n",
    "plt.plot(tuned_learning_model.history['val_loss'], label='Validation Loss')\n",
    "plt.xlabel('Epochs')\n",
    "plt.ylabel('Loss')\n",
    "plt.legend()\n",
    "# generally, accuracy increases and loss decreases as the model trains\n",
    "# loss signifies how far the model is from the expected labels, smaler loss is better"
   ]
  },
  {
   "cell_type": "code",
   "execution_count": null,
   "metadata": {},
   "outputs": [
    {
     "name": "stderr",
     "output_type": "stream",
     "text": [
      "/Users/gokulelangovan/Library/Python/3.9/lib/python/site-packages/keras/src/trainers/data_adapters/py_dataset_adapter.py:121: UserWarning: Your `PyDataset` class should call `super().__init__(**kwargs)` in its constructor. `**kwargs` can include `workers`, `use_multiprocessing`, `max_queue_size`. Do not pass these arguments to `fit()`, as they will be ignored.\n",
      "  self._warn_if_super_not_called()\n"
     ]
    },
    {
     "ename": "ImportError",
     "evalue": "This requires the scipy module. You can install it via `pip install scipy`",
     "output_type": "error",
     "traceback": [
      "\u001b[0;31m---------------------------------------------------------------------------\u001b[0m",
      "\u001b[0;31mImportError\u001b[0m                               Traceback (most recent call last)",
      "Cell \u001b[0;32mIn[16], line 1\u001b[0m\n\u001b[0;32m----> 1\u001b[0m result_train \u001b[38;5;241m=\u001b[39m \u001b[43mmodel\u001b[49m\u001b[38;5;241;43m.\u001b[39;49m\u001b[43mevaluate\u001b[49m\u001b[43m(\u001b[49m\u001b[43mtrain_dataset\u001b[49m\u001b[43m)\u001b[49m\n\u001b[1;32m      2\u001b[0m result_val \u001b[38;5;241m=\u001b[39m model\u001b[38;5;241m.\u001b[39mevaluate(valid_dataset)\n\u001b[1;32m      4\u001b[0m \u001b[38;5;28mprint\u001b[39m(\u001b[38;5;124m'\u001b[39m\u001b[38;5;124mTrain Dataset Accuracy: \u001b[39m\u001b[38;5;124m'\u001b[39m, result_train[\u001b[38;5;241m1\u001b[39m])\n",
      "File \u001b[0;32m~/Library/Python/3.9/lib/python/site-packages/keras/src/utils/traceback_utils.py:122\u001b[0m, in \u001b[0;36mfilter_traceback.<locals>.error_handler\u001b[0;34m(*args, **kwargs)\u001b[0m\n\u001b[1;32m    119\u001b[0m     filtered_tb \u001b[38;5;241m=\u001b[39m _process_traceback_frames(e\u001b[38;5;241m.\u001b[39m__traceback__)\n\u001b[1;32m    120\u001b[0m     \u001b[38;5;66;03m# To get the full stack trace, call:\u001b[39;00m\n\u001b[1;32m    121\u001b[0m     \u001b[38;5;66;03m# `keras.config.disable_traceback_filtering()`\u001b[39;00m\n\u001b[0;32m--> 122\u001b[0m     \u001b[38;5;28;01mraise\u001b[39;00m e\u001b[38;5;241m.\u001b[39mwith_traceback(filtered_tb) \u001b[38;5;28;01mfrom\u001b[39;00m\u001b[38;5;250m \u001b[39m\u001b[38;5;28;01mNone\u001b[39;00m\n\u001b[1;32m    123\u001b[0m \u001b[38;5;28;01mfinally\u001b[39;00m:\n\u001b[1;32m    124\u001b[0m     \u001b[38;5;28;01mdel\u001b[39;00m filtered_tb\n",
      "File \u001b[0;32m~/Library/Python/3.9/lib/python/site-packages/keras/src/utils/module_utils.py:29\u001b[0m, in \u001b[0;36mLazyModule.initialize\u001b[0;34m(self)\u001b[0m\n\u001b[1;32m     27\u001b[0m     \u001b[38;5;28mself\u001b[39m\u001b[38;5;241m.\u001b[39mmodule \u001b[38;5;241m=\u001b[39m importlib\u001b[38;5;241m.\u001b[39mimport_module(\u001b[38;5;28mself\u001b[39m\u001b[38;5;241m.\u001b[39mname)\n\u001b[1;32m     28\u001b[0m \u001b[38;5;28;01mexcept\u001b[39;00m \u001b[38;5;167;01mImportError\u001b[39;00m:\n\u001b[0;32m---> 29\u001b[0m     \u001b[38;5;28;01mraise\u001b[39;00m \u001b[38;5;167;01mImportError\u001b[39;00m(\u001b[38;5;28mself\u001b[39m\u001b[38;5;241m.\u001b[39mimport_error_msg)\n",
      "\u001b[0;31mImportError\u001b[0m: This requires the scipy module. You can install it via `pip install scipy`"
     ]
    }
   ],
   "source": [
    "# evaluate the model on the training and validation datasets to assess performance\n",
    "result_train = model.evaluate(train_dataset)\n",
    "result_val = model.evaluate(valid_dataset)\n",
    "\n",
    "print('Train Dataset Accuracy: ', result_train[1])\n",
    "print('Train Dataset Loss: ', result_train[0])\n",
    "print('-' * 40)\n",
    "\n",
    "print('Validation Dataset Accuracy: ', result_val[1])\n",
    "print('Validation Dataset Loss: ', result_val[0])\n",
    "print('-' * 40)"
   ]
  }
 ],
 "metadata": {
  "kernelspec": {
   "display_name": "Python 3",
   "language": "python",
   "name": "python3"
  },
  "language_info": {
   "codemirror_mode": {
    "name": "ipython",
    "version": 3
   },
   "file_extension": ".py",
   "mimetype": "text/x-python",
   "name": "python",
   "nbconvert_exporter": "python",
   "pygments_lexer": "ipython3",
   "version": "3.9.6"
  }
 },
 "nbformat": 4,
 "nbformat_minor": 2
}
